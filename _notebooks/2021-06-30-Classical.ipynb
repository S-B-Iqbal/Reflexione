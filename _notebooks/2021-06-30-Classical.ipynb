{
  "nbformat": 4,
  "nbformat_minor": 0,
  "metadata": {
    "colab": {
      "name": "2021-06-30-Classical-CV.ipynb",
      "provenance": [],
      "collapsed_sections": [],
      "toc_visible": true
    },
    "kernelspec": {
      "name": "python3",
      "display_name": "Python 3"
    },
    "language_info": {
      "name": "python"
    },
    "accelerator": "GPU",
    "widgets": {
      "application/vnd.jupyter.widget-state+json": {
        "326ca18f6cd5444ca41b5b24bf1de6ec": {
          "model_module": "@jupyter-widgets/controls",
          "model_name": "HBoxModel",
          "state": {
            "_view_name": "HBoxView",
            "_dom_classes": [],
            "_model_name": "HBoxModel",
            "_view_module": "@jupyter-widgets/controls",
            "_model_module_version": "1.5.0",
            "_view_count": null,
            "_view_module_version": "1.5.0",
            "box_style": "",
            "layout": "IPY_MODEL_fd11d9bb94cc42dab0d1a68c4e86cf9f",
            "_model_module": "@jupyter-widgets/controls",
            "children": [
              "IPY_MODEL_b7be09eb37304b20b985725182e2f103",
              "IPY_MODEL_b9cfae7988ef4aeb9a50282ac5d5c6f3"
            ]
          }
        },
        "fd11d9bb94cc42dab0d1a68c4e86cf9f": {
          "model_module": "@jupyter-widgets/base",
          "model_name": "LayoutModel",
          "state": {
            "_view_name": "LayoutView",
            "grid_template_rows": null,
            "right": null,
            "justify_content": null,
            "_view_module": "@jupyter-widgets/base",
            "overflow": null,
            "_model_module_version": "1.2.0",
            "_view_count": null,
            "flex_flow": null,
            "width": null,
            "min_width": null,
            "border": null,
            "align_items": null,
            "bottom": null,
            "_model_module": "@jupyter-widgets/base",
            "top": null,
            "grid_column": null,
            "overflow_y": null,
            "overflow_x": null,
            "grid_auto_flow": null,
            "grid_area": null,
            "grid_template_columns": null,
            "flex": null,
            "_model_name": "LayoutModel",
            "justify_items": null,
            "grid_row": null,
            "max_height": null,
            "align_content": null,
            "visibility": null,
            "align_self": null,
            "height": null,
            "min_height": null,
            "padding": null,
            "grid_auto_rows": null,
            "grid_gap": null,
            "max_width": null,
            "order": null,
            "_view_module_version": "1.2.0",
            "grid_template_areas": null,
            "object_position": null,
            "object_fit": null,
            "grid_auto_columns": null,
            "margin": null,
            "display": null,
            "left": null
          }
        },
        "b7be09eb37304b20b985725182e2f103": {
          "model_module": "@jupyter-widgets/controls",
          "model_name": "FloatProgressModel",
          "state": {
            "_view_name": "ProgressView",
            "style": "IPY_MODEL_94b9cfe6d9e44854a91caf138b3ff7b9",
            "_dom_classes": [],
            "description": "",
            "_model_name": "FloatProgressModel",
            "bar_style": "success",
            "max": 170498071,
            "_view_module": "@jupyter-widgets/controls",
            "_model_module_version": "1.5.0",
            "value": 170498071,
            "_view_count": null,
            "_view_module_version": "1.5.0",
            "orientation": "horizontal",
            "min": 0,
            "description_tooltip": null,
            "_model_module": "@jupyter-widgets/controls",
            "layout": "IPY_MODEL_67ed6ccf19734d3f97d565f82fcce2c4"
          }
        },
        "b9cfae7988ef4aeb9a50282ac5d5c6f3": {
          "model_module": "@jupyter-widgets/controls",
          "model_name": "HTMLModel",
          "state": {
            "_view_name": "HTMLView",
            "style": "IPY_MODEL_b7c5022bbc3249239d082a12496579f2",
            "_dom_classes": [],
            "description": "",
            "_model_name": "HTMLModel",
            "placeholder": "​",
            "_view_module": "@jupyter-widgets/controls",
            "_model_module_version": "1.5.0",
            "value": " 170499072/? [00:23&lt;00:00, 7267211.71it/s]",
            "_view_count": null,
            "_view_module_version": "1.5.0",
            "description_tooltip": null,
            "_model_module": "@jupyter-widgets/controls",
            "layout": "IPY_MODEL_b155fd1719e940f8a3d6ea701bde4f8f"
          }
        },
        "94b9cfe6d9e44854a91caf138b3ff7b9": {
          "model_module": "@jupyter-widgets/controls",
          "model_name": "ProgressStyleModel",
          "state": {
            "_view_name": "StyleView",
            "_model_name": "ProgressStyleModel",
            "description_width": "initial",
            "_view_module": "@jupyter-widgets/base",
            "_model_module_version": "1.5.0",
            "_view_count": null,
            "_view_module_version": "1.2.0",
            "bar_color": null,
            "_model_module": "@jupyter-widgets/controls"
          }
        },
        "67ed6ccf19734d3f97d565f82fcce2c4": {
          "model_module": "@jupyter-widgets/base",
          "model_name": "LayoutModel",
          "state": {
            "_view_name": "LayoutView",
            "grid_template_rows": null,
            "right": null,
            "justify_content": null,
            "_view_module": "@jupyter-widgets/base",
            "overflow": null,
            "_model_module_version": "1.2.0",
            "_view_count": null,
            "flex_flow": null,
            "width": null,
            "min_width": null,
            "border": null,
            "align_items": null,
            "bottom": null,
            "_model_module": "@jupyter-widgets/base",
            "top": null,
            "grid_column": null,
            "overflow_y": null,
            "overflow_x": null,
            "grid_auto_flow": null,
            "grid_area": null,
            "grid_template_columns": null,
            "flex": null,
            "_model_name": "LayoutModel",
            "justify_items": null,
            "grid_row": null,
            "max_height": null,
            "align_content": null,
            "visibility": null,
            "align_self": null,
            "height": null,
            "min_height": null,
            "padding": null,
            "grid_auto_rows": null,
            "grid_gap": null,
            "max_width": null,
            "order": null,
            "_view_module_version": "1.2.0",
            "grid_template_areas": null,
            "object_position": null,
            "object_fit": null,
            "grid_auto_columns": null,
            "margin": null,
            "display": null,
            "left": null
          }
        },
        "b7c5022bbc3249239d082a12496579f2": {
          "model_module": "@jupyter-widgets/controls",
          "model_name": "DescriptionStyleModel",
          "state": {
            "_view_name": "StyleView",
            "_model_name": "DescriptionStyleModel",
            "description_width": "",
            "_view_module": "@jupyter-widgets/base",
            "_model_module_version": "1.5.0",
            "_view_count": null,
            "_view_module_version": "1.2.0",
            "_model_module": "@jupyter-widgets/controls"
          }
        },
        "b155fd1719e940f8a3d6ea701bde4f8f": {
          "model_module": "@jupyter-widgets/base",
          "model_name": "LayoutModel",
          "state": {
            "_view_name": "LayoutView",
            "grid_template_rows": null,
            "right": null,
            "justify_content": null,
            "_view_module": "@jupyter-widgets/base",
            "overflow": null,
            "_model_module_version": "1.2.0",
            "_view_count": null,
            "flex_flow": null,
            "width": null,
            "min_width": null,
            "border": null,
            "align_items": null,
            "bottom": null,
            "_model_module": "@jupyter-widgets/base",
            "top": null,
            "grid_column": null,
            "overflow_y": null,
            "overflow_x": null,
            "grid_auto_flow": null,
            "grid_area": null,
            "grid_template_columns": null,
            "flex": null,
            "_model_name": "LayoutModel",
            "justify_items": null,
            "grid_row": null,
            "max_height": null,
            "align_content": null,
            "visibility": null,
            "align_self": null,
            "height": null,
            "min_height": null,
            "padding": null,
            "grid_auto_rows": null,
            "grid_gap": null,
            "max_width": null,
            "order": null,
            "_view_module_version": "1.2.0",
            "grid_template_areas": null,
            "object_position": null,
            "object_fit": null,
            "grid_auto_columns": null,
            "margin": null,
            "display": null,
            "left": null
          }
        }
      }
    }
  },
  "cells": [
    {
      "cell_type": "markdown",
      "metadata": {
        "id": "wHeb9O-k4dBy"
      },
      "source": [
        "# \"Title\"\n",
        "> \"Old SKool Image Classification\"\n",
        "\n",
        "- toc: true\n",
        "- branch: master\n",
        "- badges: true\n",
        "- comments: false\n",
        "- categories: [CV, image classification, feature engineering, pyTorch, CIFAR10]\n",
        "- image: images/blog1.png\n",
        "- hide: false\n",
        "- search_exclude: true\n",
        "- metadata_key1: metadata_value1\n",
        "- metadata_key2: metadata_value2"
      ]
    },
    {
      "cell_type": "markdown",
      "metadata": {
        "id": "hyvW61YPrSXf"
      },
      "source": [
        "# Old School CV: Image Texture \n",
        "----\n",
        "\n",
        "## Introduction\n",
        "\n",
        "The objective of the current notebook is to give a glimpse of some of the methods for feature extraction that were prevelent before the advent of Deep Neural Networks in the Computer Vision domain.\n",
        "\n",
        "In the current Notebook we shall see how to do the same using the Python language with CIFAR10 dataset. The goal is to extract several features from the provided images and finally perform Image Classification using a Multi Layer Perceptron.\n",
        "\n",
        "## Texture Analysis\n",
        "\n",
        "On the preface of the book _Image Processing: Dealing with Textures_ [[1]](#1), the authors provided a very captivating definition of Texture: __Texture is what makes life beautiful; texture is what makes life interesting and texture is what makes life possible. Texture is what makes Mozart’s music beautiful, the masterpieces of the art of the Renaissance classical and the facades of Barcelona’s buildings attractive.\"__.(Not so helpful eh!)    \n",
        "\n",
        "So, what is Texture? Technically, its the 'variation of Data on a smaller scale than the scale of interest'.\n",
        "\n",
        "Classical Visual Computing comprises of two main branches when it comes to analyzing Texture of an Image [[1]](#1):\n",
        "1. Structural    \n",
        "    - Local Binary Pattern\n",
        "    - Gabor Wavelets\n",
        "    - Fourier Co-efficients\n",
        "2. Statistical    \n",
        "    - Co-Occurance Matrix\n",
        "    - Orientation Histogram\n",
        "\n",
        "\n",
        "## Workflow\n",
        "\n",
        "- We shall start by downloading the [CIFAR-10](https://www.cs.toronto.edu/~kriz/cifar.html) dataset.\n",
        "\n",
        "- Next, we manually craft the features to obtain Texture Metrics.\n",
        "\n",
        "- After creating functions to obtain textual features from an image, we create a loop to extract the same from all the images in Training and Test dataset.\n",
        "\n",
        "- Next, we save the Training and Test set extracted features as serialized file. \n",
        "\n",
        "- Then we shall use the created features as co-variates against the label for each image and train a Softmax classifier on the Training Set. \n",
        "\n",
        "- Eventually, we evaluate the classifier on the Test set. "
      ]
    },
    {
      "cell_type": "code",
      "metadata": {
        "id": "yPc1dj_-rcUG"
      },
      "source": [
        "%matplotlib inline\n",
        "\n",
        "from torchvision import datasets\n",
        "import PIL\n",
        "from skimage.feature import local_binary_pattern, greycomatrix, greycoprops\n",
        "from skimage.filters import gabor\n",
        "\n",
        "import torch\n",
        "from torch import nn \n",
        "from torch.utils.data import TensorDataset, DataLoader\n",
        "import torch.nn.functional as F\n",
        "import numpy as np\n",
        "\n",
        "import matplotlib.pyplot as plt\n",
        "import tqdm\n",
        "from tqdm import notebook\n",
        "\n",
        "from pathlib import Path\n",
        "import pickle\n",
        "import time"
      ],
      "execution_count": null,
      "outputs": []
    },
    {
      "cell_type": "markdown",
      "metadata": {
        "id": "KBDp4XDdtFMc"
      },
      "source": [
        "### Data Loading"
      ]
    },
    {
      "cell_type": "code",
      "metadata": {
        "colab": {
          "base_uri": "https://localhost:8080/",
          "height": 122,
          "referenced_widgets": [
            "326ca18f6cd5444ca41b5b24bf1de6ec",
            "fd11d9bb94cc42dab0d1a68c4e86cf9f",
            "b7be09eb37304b20b985725182e2f103",
            "b9cfae7988ef4aeb9a50282ac5d5c6f3",
            "94b9cfe6d9e44854a91caf138b3ff7b9",
            "67ed6ccf19734d3f97d565f82fcce2c4",
            "b7c5022bbc3249239d082a12496579f2",
            "b155fd1719e940f8a3d6ea701bde4f8f"
          ]
        },
        "id": "ZmBQ5vjZs9c8",
        "outputId": "9cbe58f4-8e0e-41a4-b14e-7d65df83b8c2"
      },
      "source": [
        "trainDset =  datasets.CIFAR10(root=\"./cifar10/\", train=True, download=True)\n",
        "testDset = datasets.CIFAR10(root = \"./cifar10/\", train=False, download=True)"
      ],
      "execution_count": null,
      "outputs": [
        {
          "output_type": "stream",
          "text": [
            "Downloading https://www.cs.toronto.edu/~kriz/cifar-10-python.tar.gz to ./cifar10/cifar-10-python.tar.gz\n"
          ],
          "name": "stdout"
        },
        {
          "output_type": "display_data",
          "data": {
            "application/vnd.jupyter.widget-view+json": {
              "model_id": "326ca18f6cd5444ca41b5b24bf1de6ec",
              "version_minor": 0,
              "version_major": 2
            },
            "text/plain": [
              "HBox(children=(FloatProgress(value=0.0, max=170498071.0), HTML(value='')))"
            ]
          },
          "metadata": {
            "tags": []
          }
        },
        {
          "output_type": "stream",
          "text": [
            "\n",
            "Extracting ./cifar10/cifar-10-python.tar.gz to ./cifar10/\n",
            "Files already downloaded and verified\n"
          ],
          "name": "stdout"
        }
      ]
    },
    {
      "cell_type": "code",
      "metadata": {
        "id": "YqqpjiCIvnop"
      },
      "source": [
        "# Looking at a single image"
      ],
      "execution_count": null,
      "outputs": []
    },
    {
      "cell_type": "code",
      "metadata": {
        "colab": {
          "base_uri": "https://localhost:8080/",
          "height": 284
        },
        "id": "GsiIgDSuu7zN",
        "outputId": "a2946d38-a608-4922-daa1-9619342b82dc"
      },
      "source": [
        "#collapse\n",
        "img = trainDset[0][0] # PIL Image\n",
        "img_grey  = img.convert('L') # convert to Grey-scale\n",
        "img_arr = np.array(img_grey) # convert to numpy array\n",
        "plt.imshow(img)"
      ],
      "execution_count": null,
      "outputs": [
        {
          "output_type": "execute_result",
          "data": {
            "text/plain": [
              "<matplotlib.image.AxesImage at 0x7f036a3b2390>"
            ]
          },
          "metadata": {
            "tags": []
          },
          "execution_count": 3
        },
        {
          "output_type": "display_data",
          "data": {
            "image/png": "[encoded data removed]",
            "text/plain": [
              "<Figure size 432x288 with 1 Axes>"
            ]
          },
          "metadata": {
            "tags": [],
            "needs_background": "light"
          }
        }
      ]
    },
    {
      "cell_type": "markdown",
      "metadata": {
        "id": "CkJwKthQwA2X"
      },
      "source": [
        "## Local Binary Patterns(LBP)\n",
        "\n",
        "LBP is helpful in extracting \"local\" structure of the image. It does so by encoding the local neighbourhood after they have been maximally simplified, i.e. binarized. In case, we want to perform LBP on a coloured image, we need to do so individually on each channel(Red/Blue/Green)."
      ]
    },
    {
      "cell_type": "code",
      "metadata": {
        "id": "jm5z2vIVvHgo",
        "colab": {
          "base_uri": "https://localhost:8080/",
          "height": 284
        },
        "outputId": "7a5696fb-c23b-4bef-8edd-84ba2cd7a7e2"
      },
      "source": [
        "#collapse\n",
        "feat_lbp = local_binary_pattern(img_arr, 8,1,'uniform')\n",
        "feat_lbp = np.uint8( (feat_lbp/feat_lbp.max())*255) # converting to unit 8\n",
        "lbp_img = PIL.Image.fromarray(feat_lbp) # Convert from array\n",
        "\n",
        "plt.imshow(lbp_img, cmap = 'gray')"
      ],
      "execution_count": null,
      "outputs": [
        {
          "output_type": "execute_result",
          "data": {
            "text/plain": [
              "<matplotlib.image.AxesImage at 0x7f0369f50a90>"
            ]
          },
          "metadata": {
            "tags": []
          },
          "execution_count": 4
        },
        {
          "output_type": "display_data",
          "data": {
            "image/png": "[encoded data removed]",
            "text/plain": [
              "<Figure size 432x288 with 1 Axes>"
            ]
          },
          "metadata": {
            "tags": [],
            "needs_background": "light"
          }
        }
      ]
    },
    {
      "cell_type": "code",
      "metadata": {
        "colab": {
          "base_uri": "https://localhost:8080/"
        },
        "id": "t_LJ-kxO4rXT",
        "outputId": "76725ec7-553a-43ec-af2c-d33e9ed3cbfb"
      },
      "source": [
        "# Energy, Entropy\n",
        "\n",
        "def get_lbp(img):\n",
        "  \"\"\"Function to implement Local Binary Pattern\"\"\"\n",
        "  lbp_hist, _ = np.histogram(img, 8)\n",
        "  lbp_hist = np.array(lbp_hist, dtype = float)\n",
        "  lbp_prob = np.divide(lbp_hist, np.sum(lbp_hist))\n",
        "  lbp_prob = np.where(np.isclose(0, lbp_prob), 0.0000000001, lbp_prob) # to avoid log(0)\n",
        "  lbp_energy = np.sum(lbp_prob**2)\n",
        "  lbp_entropy = -np.sum(np.multiply(lbp_prob, np.log2(lbp_prob)))\n",
        "  return lbp_energy, lbp_entropy"
      ],
      "execution_count": null,
      "outputs": [
        {
          "output_type": "stream",
          "text": [
            "\n"
          ],
          "name": "stdout"
        }
      ]
    },
    {
      "cell_type": "markdown",
      "metadata": {
        "id": "dn-7mpPW8dnX"
      },
      "source": [
        "## Co Occurence Matrix\n",
        "\n",
        "Intiutively, if we were to extract information of a pixel in an image and also record its neighbouring pixels and their intensities, we will be able to capture both spatial and relative information. This is where Co-Occurance matrix are useful. They extract the representation of joint probability of chosen set of pixels having certain values. \n",
        "\n",
        "Once we have the co-occurance matrix, we can start calculating the feature matrics such as:\n",
        "- $\\textbf{Energy} = \\sum_{m=0}^{G-1}\\sum_{n=0}^{G-1}p^2\\left(m,n\\right)$\n",
        "\n",
        "- $\\textbf{Entropy} = \\sum_{m=0}^{G-1}\\sum_{n=0}^{G-1}p\\left(m,n\\right)\\cdot log \\left(p\\left(m,n\\right)\\right)$\n",
        "\n",
        "- $\\textbf{Contrast} = \\frac{1}{(G-1)^2}\\sum_{m=0}^{G-1}\\sum_{n=0}^{G-1}(m-n)^2\\cdot p(m,n)$\n",
        "- $\\textbf{Homogeneity} = \\sum_{m=0}^{G-1}\\sum_{n=0}^{G-1} \\frac{p(m,n)}{1+|m-n|}$\n",
        "\n",
        "Where, $m,n$ are the neighbouring pixels and $G$ is the total number of grey levels we use. $G=256$ for an 8-bit gray-scale image"
      ]
    },
    {
      "cell_type": "code",
      "metadata": {
        "id": "H9kdDX8y4-hP"
      },
      "source": [
        "def creat_cooccur(img_arr, *args, **kwargs):\n",
        "  \"\"\"Implements extraction of features from Co-Occurance Matrix\"\"\"\n",
        "  gCoMat = greycomatrix(img_arr, [2], [0], 256, symmetric=True, normed=True)\n",
        "  contrast = greycoprops(gCoMat, prop='contrast')\n",
        "  dissimilarity = greycoprops(gCoMat, prop='dissimilarity')\n",
        "  homogeneity = greycoprops(gCoMat, prop='homogeneity')\n",
        "  energy = greycoprops(gCoMat, prop='energy')\n",
        "  correlation = greycoprops(gCoMat, prop = 'correlation')\n",
        "  return contrast[0][0], dissimilarity[0][0], homogeneity[0][0], energy[0][0], correlation[0][0]"
      ],
      "execution_count": null,
      "outputs": []
    },
    {
      "cell_type": "code",
      "metadata": {
        "id": "DwMIRMCl2obp"
      },
      "source": [
        "#collapse\n",
        "gCoMat = greycomatrix(img_arr, [2], [0], 256, symmetric=True, normed=True)\n",
        "contrast = greycoprops(gCoMat, prop='contrast')\n",
        "dissimilarity = greycoprops(gCoMat, prop='dissimilarity')\n",
        "homogeneity = greycoprops(gCoMat, prop='homogeneity')\n",
        "energy = greycoprops(gCoMat, prop='energy')\n",
        "correlation = greycoprops(gCoMat, prop = 'correlation')\n",
        "print(energy[0][0])"
      ],
      "execution_count": null,
      "outputs": []
    },
    {
      "cell_type": "markdown",
      "metadata": {
        "id": "rFV5wgv99_xj"
      },
      "source": [
        "## [Gabor Filter](https://en.wikipedia.org/wiki/Gabor_filter#Applications_of_2-D_Gabor_filters_in_image_processing)\n",
        "\n"
      ]
    },
    {
      "cell_type": "code",
      "metadata": {
        "id": "S7Rdo_lf80uN"
      },
      "source": [
        "gf_real, gf_img = gabor(img_arr, frequency=0.6)\n",
        "gf  =(gf_real**2 + gf_img**2)//2\n",
        "# Displaying the filter response\n",
        "fig, ax = plt.subplots(1,3)    \n",
        "ax[0].imshow(gf_real,cmap='gray')\n",
        "ax[1].imshow(gf_img,cmap='gray')\n",
        "ax[2].imshow(gf,cmap='gray')"
      ],
      "execution_count": null,
      "outputs": []
    },
    {
      "cell_type": "code",
      "metadata": {
        "id": "tCHzyBRL-jcc"
      },
      "source": [
        "def get_gabor(img, N, *args, **kwargs):\n",
        "  \"\"\"Gabor Feature extraction\"\"\"\n",
        "  gf_real, gf_img = gabor(img_arr, frequency=0.6)\n",
        "  gf  =(gf_real**2 + gf_img**2)//2\n",
        "  gabor_hist, _ = np.histogram(gf, N)\n",
        "  gabor_hist = np.array(gabor_hist, dtype = float)\n",
        "  gabor_prob = np.divide(gabor_hist, np.sum(gabor_hist))\n",
        "  # To discard pixels resulting in 0 probability\n",
        "  gabor_prob = np.where(np.isclose(0, gabor_prob), 0.0000000001, gabor_prob)\n",
        "  gabor_energy = np.sum(gabor_prob**2)\n",
        "  gabor_entropy = np.sum(np.multiply(gabor_prob, np.log2(gabor_prob)))\n",
        "  return gabor_energy, gabor_entropy"
      ],
      "execution_count": null,
      "outputs": []
    },
    {
      "cell_type": "markdown",
      "metadata": {
        "id": "eB-IPfri_O3w"
      },
      "source": [
        "## Feature Extraction"
      ]
    },
    {
      "cell_type": "code",
      "metadata": {
        "id": "IfDng0rD_J9I"
      },
      "source": [
        "# Generate Training Data\n",
        "# Extract features from all images\n",
        "\n",
        "label = []\n",
        "\n",
        "featLength = 2+5+2 # LBP, Co-occurance, Gabor\n",
        "trainFeats = np.zeros((len(trainDset), featLength))\n",
        "testFeats = np.zeros((len(testDset), featLength))"
      ],
      "execution_count": null,
      "outputs": []
    },
    {
      "cell_type": "code",
      "metadata": {
        "id": "J29DZ8PNQPmR"
      },
      "source": [
        "label = [trainDset[tr][1] for tr in tqdm.tqdm_notebook(range(len(trainFeats)))]\n",
        "\n",
        "trainLabel = np.array(label)"
      ],
      "execution_count": null,
      "outputs": []
    },
    {
      "cell_type": "code",
      "metadata": {
        "id": "Kc3dotKHAwOv"
      },
      "source": [
        "for tr in tqdm.tqdm_notebook(range(len(trainFeats))):\n",
        "  img = trainDset[tr][0]\n",
        "  img_grey = img.convert('L')\n",
        "  img_arr = np.array(img_grey.getdata()).reshape(img.size[1], img.size[0])\n",
        "  # LBP \n",
        "  feat_lbp = local_binary_pattern(img_arr, 5,2,'uniform').reshape(img.size[0]*img.size[1])\n",
        "  feat_lbp = np.uint8((feat_lbp/feat_lbp.max())*255) # converting to unit 8\n",
        "  lbp_energy, lbp_entropy = get_lbp(feat_lbp)\n",
        "  # Co-Occurance\n",
        "  gCoMat = greycomatrix(img_arr, [2], [0], 256, True,True)\n",
        "  featglcm  = np.array(creat_cooccur(img_arr))\n",
        "  # Gabor\n",
        "  gabor_energy, gabor_entropy = get_gabor(img_arr, 8)\n",
        "\n",
        "  # Concat features\n",
        "  concat_feat = np.concatenate(([lbp_energy, lbp_entropy], featglcm, [gabor_energy, gabor_entropy]), axis=0)\n",
        "  trainFeats[tr,:] = concat_feat\n",
        "  label.append(trainDset[tr][1])\n",
        "trainLabel = np.array(label)"
      ],
      "execution_count": null,
      "outputs": []
    },
    {
      "cell_type": "code",
      "metadata": {
        "id": "E55KCkScud25"
      },
      "source": [
        "label = []\n",
        "\n",
        "for ts in tqdm.tqdm_notebook(range(len(testDset))):\n",
        "  img = testDset[ts][0]\n",
        "  img_grey = img.convert('L')\n",
        "  img_arr = np.array(img_grey.getdata()).reshape(img.size[1], img.size[0])\n",
        "  # LBP \n",
        "  feat_lbp = local_binary_pattern(img_arr, 5,2,'uniform').reshape(img.size[0]*img.size[1])\n",
        "  lbp_energy, lbp_entropy = get_lbp(feat_lbp)\n",
        "  # Co-Occurance\n",
        "  gCoMat = greycomatrix(img_arr, [2], [0], 256, True,True)\n",
        "  featglcm  = np.array(creat_cooccur(img_arr))\n",
        "  # Gabor\n",
        "  gabor_energy, gabor_entropy = get_gabor(img_arr, 8)\n",
        "\n",
        "  # Concat features\n",
        "  concat_feat = np.concatenate(([lbp_energy, lbp_entropy], featglcm, [gabor_energy, gabor_entropy]), axis=0)\n",
        "\n",
        "  testFeats[ts,:] = concat_feat\n",
        "  label.append(testDset[ts][1]) \n",
        "\n",
        "testLabel = np.array(label)"
      ],
      "execution_count": null,
      "outputs": []
    },
    {
      "cell_type": "markdown",
      "metadata": {
        "id": "wVTCGZuoJwn4"
      },
      "source": [
        "### Normalize Features"
      ]
    },
    {
      "cell_type": "code",
      "metadata": {
        "id": "p9yWnBlYBtAk"
      },
      "source": [
        "# Normalizing the train features to the range [0,1]\n",
        "trMaxs = np.amax(trainFeats,axis=0) #Finding maximum along each column\n",
        "trMins = np.amin(trainFeats,axis=0) #Finding maximum along each column\n",
        "trMaxs_rep = np.tile(trMaxs,(50000,1)) #Repeating the maximum value along the rows\n",
        "trMins_rep = np.tile(trMins,(50000,1)) #Repeating the minimum value along the rows\n",
        "trainFeatsNorm = np.divide(trainFeats-trMins_rep,trMaxs_rep) #Element-wise division\n",
        "# Normalizing the test features\n",
        "tsMaxs_rep = np.tile(trMaxs,(10000,1)) #Repeating the maximum value along the rows\n",
        "tsMins_rep = np.tile(trMins,(10000,1)) #Repeating the maximum value along the rows\n",
        "testFeatsNorm = np.divide(testFeats-tsMins_rep,tsMaxs_rep) #Element-wise division"
      ],
      "execution_count": null,
      "outputs": []
    },
    {
      "cell_type": "markdown",
      "metadata": {
        "id": "S0Lw0BNNkt_1"
      },
      "source": [
        "### Save Data"
      ]
    },
    {
      "cell_type": "code",
      "metadata": {
        "id": "lqRVYmiyCCwG"
      },
      "source": [
        "with open(\"TrainFeats.pckl\", \"wb\") as f:\n",
        "  pickle.dump(trainFeatsNorm, f)\n",
        "with open(\"TrainLabel.pckl\", \"wb\") as f:\n",
        "  pickle.dump(trainLabel, f)\n",
        "\n",
        "with open(\"TestFeats.pckl\", \"wb\") as f:\n",
        "  pickle.dump(testFeatsNorm, f)\n",
        "with open(\"TestLabel.pckl\", \"wb\") as f:\n",
        "  pickle.dump(testLabel, f)\n",
        "print(\"files Saved!\")"
      ],
      "execution_count": null,
      "outputs": []
    },
    {
      "cell_type": "markdown",
      "metadata": {
        "id": "PBYCJrLyg3Ui"
      },
      "source": [
        "## Classification with SoftMax Regression"
      ]
    },
    {
      "cell_type": "markdown",
      "metadata": {
        "id": "H4hYy5b1lVGf"
      },
      "source": [
        "### Data Preparation\n"
      ]
    },
    {
      "cell_type": "code",
      "metadata": {
        "id": "AOTO7u4jgyCe"
      },
      "source": [
        "##########################\n",
        "### SETTINGS\n",
        "##########################\n",
        "\n",
        "# Device\n",
        "DEVICE = torch.device(\"cuda:0\" if torch.cuda.is_available() else \"cpu\")\n",
        "\n",
        "# Hyperparameters\n",
        "random_seed = 123\n",
        "learning_rate = 0.01\n",
        "num_epochs = 100\n",
        "batch_size = 64\n",
        "\n",
        "# Architecture\n",
        "num_features = 9\n",
        "num_classes = 10\n",
        "\n",
        "##########################\n",
        "### CIFAR10 DATASET\n",
        "##########################\n",
        "## Converting Numpy array to Torch-Tensor\n",
        "\n",
        "trainLabels = torch.from_numpy(trainLabel)\n",
        "trainDataset = TensorDataset(torch.from_numpy(trainFeats),trainLabels)\n",
        "\n",
        "testLabels = torch.from_numpy(testLabel)\n",
        "testDataset = TensorDataset(torch.from_numpy(testFeats), testLabels)\n",
        "\n",
        "## Creating DataLoader\n",
        "\n",
        "train_loader = DataLoader(trainDataset, batch_size=batch_size, shuffle=True)\n",
        "\n",
        "test_loader = DataLoader(testDataset,batch_size=batch_size,shuffle=False)"
      ],
      "execution_count": null,
      "outputs": []
    },
    {
      "cell_type": "markdown",
      "metadata": {
        "id": "vYxbhfRrmbne"
      },
      "source": [
        "### Define Model"
      ]
    },
    {
      "cell_type": "code",
      "metadata": {
        "id": "fz7DRN4-mBeL"
      },
      "source": [
        "##########################\n",
        "### MODEL\n",
        "##########################\n",
        "\n",
        "class SoftmaxRegression(torch.nn.Module):\n",
        "\n",
        "    def __init__(self, num_features, num_classes):\n",
        "        super(SoftmaxRegression, self).__init__()\n",
        "        self.linear = torch.nn.Linear(num_features, num_classes)\n",
        "        \n",
        "        # self.linear.weight.detach().zero_()\n",
        "        # self.linear.bias.detach().zero_()\n",
        "        \n",
        "    def forward(self, x):\n",
        "        logits = self.linear(x)\n",
        "        probas = F.softmax(logits, dim=1)\n",
        "        return logits, probas\n",
        "\n",
        "model = SoftmaxRegression(num_features=num_features,\n",
        "                          num_classes=num_classes)\n",
        "\n",
        "model.to(DEVICE)\n",
        "\n",
        "##########################\n",
        "### COST AND OPTIMIZER\n",
        "##########################\n",
        "\n",
        "optimizer = torch.optim.SGD(model.parameters(), lr=learning_rate)"
      ],
      "execution_count": null,
      "outputs": []
    },
    {
      "cell_type": "markdown",
      "metadata": {
        "id": "oYZu09lAmrA6"
      },
      "source": [
        "### Define Training Route"
      ]
    },
    {
      "cell_type": "code",
      "metadata": {
        "id": "qzmhcGFhmVnV"
      },
      "source": [
        "# Manual seed for deterministic data loader\n",
        "torch.manual_seed(random_seed)\n",
        "\n",
        "\n",
        "def compute_accuracy(model, data_loader):\n",
        "    correct_pred, num_examples = 0, 0\n",
        "    \n",
        "    for features, targets in data_loader:\n",
        "        features = features.float().view(-1, 9).to(DEVICE)\n",
        "        targets = targets.to(DEVICE)\n",
        "        logits, probas = model(features)\n",
        "        _, predicted_labels = torch.max(probas, 1)\n",
        "        num_examples += targets.size(0)\n",
        "        correct_pred += (predicted_labels == targets).sum()\n",
        "        \n",
        "    return correct_pred.float() / num_examples * 100\n",
        "    \n",
        "\n",
        "start_time = time.time()\n",
        "epoch_costs = []\n",
        "for epoch in range(num_epochs):\n",
        "    avg_cost = 0.\n",
        "    for batch_idx, (features, targets) in enumerate(train_loader):\n",
        "        \n",
        "        features = features.float().view(-1, 9).to(DEVICE)\n",
        "        targets = targets.to(DEVICE)\n",
        "            \n",
        "        ### FORWARD AND BACK PROP\n",
        "        logits, probas = model(features)\n",
        "        \n",
        "        # note that the PyTorch implementation of\n",
        "        # CrossEntropyLoss works with logits, not\n",
        "        # probabilities\n",
        "        cost = F.cross_entropy(logits, targets)\n",
        "        optimizer.zero_grad()\n",
        "        cost.backward()\n",
        "        avg_cost += cost\n",
        "        \n",
        "        ### UPDATE MODEL PARAMETERS\n",
        "        optimizer.step()\n",
        "        \n",
        "        ### LOGGING\n",
        "        if not batch_idx % 50:\n",
        "            print ('Epoch: %03d/%03d | Batch %03d/%03d | Cost: %.4f' \n",
        "                   %(epoch+1, num_epochs, batch_idx, \n",
        "                     len(trainDataset)//batch_size, cost))\n",
        "            \n",
        "    with torch.set_grad_enabled(False):\n",
        "        avg_cost = avg_cost/len(trainDataset)\n",
        "        epoch_costs.append(avg_cost)\n",
        "        print('Epoch: %03d/%03d training accuracy: %.2f%%' % (\n",
        "              epoch+1, num_epochs, \n",
        "              compute_accuracy(model, train_loader)))\n",
        "        print('Time elapsed: %.2f min' % ((time.time() - start_time)/60))"
      ],
      "execution_count": null,
      "outputs": []
    },
    {
      "cell_type": "markdown",
      "metadata": {
        "id": "80JfqscwmxXX"
      },
      "source": [
        "### Model Performance"
      ]
    },
    {
      "cell_type": "code",
      "metadata": {
        "colab": {
          "base_uri": "https://localhost:8080/",
          "height": 288
        },
        "id": "URyaKO-Dmhkv",
        "outputId": "6ee947f8-e21f-436a-d815-ea795298814d"
      },
      "source": [
        "%matplotlib inline\n",
        "import matplotlib\n",
        "import matplotlib.pyplot as plt\n",
        "\n",
        "\n",
        "plt.plot(epoch_costs)\n",
        "plt.ylabel('Avg Cross Entropy Loss\\n(approximated by averaging over minibatches)')\n",
        "plt.xlabel('Epoch')\n",
        "plt.show()"
      ],
      "execution_count": null,
      "outputs": [
        {
          "output_type": "display_data",
          "data": {
            "image/png": "[encoded data removed]",
            "text/plain": [
              "<Figure size 432x288 with 1 Axes>"
            ]
          },
          "metadata": {
            "tags": [],
            "needs_background": "light"
          }
        }
      ]
    },
    {
      "cell_type": "code",
      "metadata": {
        "colab": {
          "base_uri": "https://localhost:8080/"
        },
        "id": "x7Ht7fHdm3M7",
        "outputId": "e544228a-87c6-47d9-ac19-ec1afb5d3571"
      },
      "source": [
        "print(f'Train accuracy: {(compute_accuracy(model, train_loader)): .2f}%')\n",
        "print(f'Train accuracy: {(compute_accuracy(model, test_loader)): .2f}%')"
      ],
      "execution_count": null,
      "outputs": [
        {
          "output_type": "stream",
          "text": [
            "Train accuracy:  24.92%\n",
            "Train accuracy:  25.29%\n"
          ],
          "name": "stdout"
        }
      ]
    },
    {
      "cell_type": "markdown",
      "metadata": {
        "id": "BYGUq6rEonMW"
      },
      "source": [
        "## Comments\n",
        "\n",
        "- This was a demonstration of how we can use manually crafted features in Image Classification tasks.\n",
        "- The model can be improved in several ways:\n",
        "    - Tweaking the parameters to modify features generated for **_LBP, Co-Occurance Matrix and Gabor Filter_**\n",
        "    - Extending the parameters for Red,Blue and Green channels.\n",
        "    - Modifying the Learning rate, Epochs.\n",
        "    - Trying a different Algorithm such as Multi Layer Perceptron.\n",
        "- The results aren't great but offer a glimpse of manually creating features from images."
      ]
    },
    {
      "cell_type": "markdown",
      "metadata": {
        "id": "FrF88fQ2zoHx"
      },
      "source": [
        "## References\n",
        "<a id=\"1\">[1]</a> \n",
        "Maria MP, and Sevilla PG. _Image processing: dealing with texture_. John Wiley & Sons, 2006."
      ]
    },
    {
      "cell_type": "code",
      "metadata": {
        "id": "43-VyHWq0Svm"
      },
      "source": [
        ""
      ],
      "execution_count": null,
      "outputs": []
    }
  ]
}
